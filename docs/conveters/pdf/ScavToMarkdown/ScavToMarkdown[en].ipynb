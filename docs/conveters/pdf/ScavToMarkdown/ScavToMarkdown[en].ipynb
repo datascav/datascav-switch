{
 "cells": [
  {
   "cell_type": "markdown",
   "metadata": {},
   "source": [
    "# ScavToMarkdown: PDF to Markdown Converter\n",
    "\n",
    "`ScavToMarkdown` is a robust solution for transcribing PDF files into Markdown text, using OpenAI models (`gpt-4.1` and `gpt-4o` only) via LangChain.\n",
    "\n",
    "- **Input:** file path, bytes, URL, or base64 string of the PDF.\n",
    "- **Output:** Markdown string with a detailed transcription of the PDF.\n",
    "- **Highlights:** parallel processing, dynamic and configurable logging, integration with LangChain and OpenAI, and detailed token tracking.\n",
    "\n",
    "---"
   ]
  },
  {
   "cell_type": "markdown",
   "metadata": {},
   "source": [
    "## Class Parameters\n",
    "\n",
    "| Parameter     | Type    | Default    | Description                                                                |\n",
    "|---------------|---------|------------|----------------------------------------------------------------------------|\n",
    "| model         | str     | 'gpt-4.1'  | OpenAI model to use ('gpt-4.1' or 'gpt-4o')                                |\n",
    "| temperature   | float   | 0          | Temperature for text generation                                            |\n",
    "| max_tokens    | int     | 2048       | Maximum number of tokens per response                                      |\n",
    "| timeout       | int     | 90         | Timeout (seconds) for requests                                             |\n",
    "| max_workers   | int     | 10         | Maximum number of threads for parallel processing                          |\n",
    "| verbose       | bool    | True       | Enables/disables detailed logs                                             |\n",
    "| log_level     | str     | 'INFO'     | Log level ('DEBUG', 'INFO', 'WARNING', 'ERROR')                           |\n",
    "| callbacks     | list    | None       | LangChain callbacks for tracing                                            |\n",
    "| logger        | Logger  | None       | Custom logger (optional, for dynamic integration)                          |\n",
    "\n",
    "**Exceptions:**\n",
    "- `ModelIncompatibilityError`: if the model is not 'gpt-4.1' or 'gpt-4o'.\n",
    "- `RuntimeError`: issues when reading the PDF.\n",
    "\n",
    "---"
   ]
  },
  {
   "cell_type": "code",
   "execution_count": 1,
   "metadata": {},
   "outputs": [],
   "source": [
    "# Dependency installation (if needed)\n",
    "# !pip install langchain_openai langchain_core openai python-dotenv requests pymupdf tiktoken"
   ]
  },
  {
   "cell_type": "markdown",
   "metadata": {},
   "source": [
    "## Instantiating the class\n",
    "\n",
    "Below, we instantiate the converter with the default model and logging enabled.\n",
    "You can pass a custom logger for dynamic integration with other logging systems.\n"
   ]
  },
  {
   "cell_type": "code",
   "execution_count": 8,
   "metadata": {},
   "outputs": [
    {
     "name": "stderr",
     "output_type": "stream",
     "text": [
      "2025-06-14 05:09:47,307 - ScavToMarkdown - INFO - ScavToMarkdown initialized - Project: None\n"
     ]
    }
   ],
   "source": [
    "from scav_switch.converters.pdf import ScavToMarkdown\n",
    "import logging\n",
    "\n",
    "scav = ScavToMarkdown(model='gpt-4.1', verbose=True)\n"
   ]
  },
  {
   "cell_type": "markdown",
   "metadata": {},
   "source": [
    "## Example 1: Convert PDF from a file path\n",
    "\n",
    "The `dig` method accepts the path to a local PDF file.\n"
   ]
  },
  {
   "cell_type": "code",
   "execution_count": 9,
   "metadata": {},
   "outputs": [
    {
     "name": "stderr",
     "output_type": "stream",
     "text": [
      "2025-06-14 05:09:48,982 - ScavToMarkdown - INFO - Starting PDF to Markdown conversion process\n",
      "2025-06-14 05:09:48,983 - ScavToMarkdown - INFO - PDF loaded successfully - 145494 bytes\n",
      "2025-06-14 05:09:49,438 - ScavToMarkdown - INFO - Extracted 11 pages from PDF\n",
      "2025-06-14 05:09:49,438 - ScavToMarkdown - INFO - Starting parallel processing with 10 workers\n",
      "2025-06-14 05:10:09,364 - ScavToMarkdown - INFO - Conversion completed - 16976 characters generated\n"
     ]
    },
    {
     "name": "stdout",
     "output_type": "stream",
     "text": [
      "\n",
      "# Design and build accessible PDF tables\n",
      "## Sample tables\n",
      "\n",
      "---\n",
      "\n",
      "### Table 1\n",
      "\n",
      "| **Column header (TH)** | **Column header (TH)** | **Column header (TH)** |\n",
      "|------------------------|------------------------|------------------------|\n",
      "| **Row header (TH\n"
     ]
    }
   ],
   "source": [
    "import os\n",
    "base_path = os.getcwd()\n",
    "pdf_path = os.path.join(base_path, 'sample-tables.pdf')\n",
    "markdown_text = scav.dig(pdf_path)\n",
    "\n",
    "with open('markdown_text.md', 'w') as f:\n",
    "    f.write(markdown_text)\n",
    "\n",
    "print(markdown_text[:250])\n"
   ]
  },
  {
   "cell_type": "markdown",
   "metadata": {},
   "source": [
    "## Example 2: Convert PDF from a URL\n",
    "\n",
    "You can also provide a direct URL to the PDF.\n"
   ]
  },
  {
   "cell_type": "code",
   "execution_count": 4,
   "metadata": {},
   "outputs": [
    {
     "name": "stderr",
     "output_type": "stream",
     "text": [
      "2025-06-14 03:23:57,139 - ScavToMarkdown - INFO - Starting PDF to Markdown conversion process\n",
      "2025-06-14 03:23:57,260 - ScavToMarkdown - INFO - PDF loaded successfully - 145494 bytes\n",
      "2025-06-14 03:23:57,728 - ScavToMarkdown - INFO - Extracted 11 pages from PDF\n",
      "2025-06-14 03:23:57,728 - ScavToMarkdown - INFO - Starting parallel processing with 10 workers\n",
      "2025-06-14 03:24:13,395 - ScavToMarkdown - INFO - Conversion completed - 16784 characters generated\n"
     ]
    },
    {
     "name": "stdout",
     "output_type": "stream",
     "text": [
      "\n",
      "Design and build  \n",
      "accessible PDF tables  \n",
      "Sample tables\n",
      "\n",
      "Table 1\n",
      "\n",
      "| Column header (TH) | Column header (TH) | Column header (TH) |\n",
      "|--------------------|--------------------|--------------------|\n",
      "| **Row header (TH)** | Data cell (TD)      | Data c\n"
     ]
    }
   ],
   "source": [
    "pdf_url = 'https://datascav-public-media-bkt.s3.sa-east-1.amazonaws.com/pdf/sample-tables.pdf'\n",
    "markdown_text = scav.dig(pdf_url)\n",
    "print(markdown_text[:250])\n"
   ]
  },
  {
   "cell_type": "markdown",
   "metadata": {},
   "source": [
    "## Example 3: Convert PDF from a base64 string\n",
    "\n",
    "If you have the PDF in base64, just pass the string directly.\n"
   ]
  },
  {
   "cell_type": "code",
   "execution_count": 5,
   "metadata": {},
   "outputs": [
    {
     "name": "stderr",
     "output_type": "stream",
     "text": [
      "2025-06-14 03:24:13,402 - ScavToMarkdown - INFO - Starting PDF to Markdown conversion process\n",
      "2025-06-14 03:24:13,403 - ScavToMarkdown - INFO - PDF loaded successfully - 145494 bytes\n",
      "2025-06-14 03:24:13,854 - ScavToMarkdown - INFO - Extracted 11 pages from PDF\n",
      "2025-06-14 03:24:13,855 - ScavToMarkdown - INFO - Starting parallel processing with 10 workers\n",
      "2025-06-14 03:24:28,520 - ScavToMarkdown - INFO - Conversion completed - 16911 characters generated\n"
     ]
    },
    {
     "name": "stdout",
     "output_type": "stream",
     "text": [
      "\n",
      "Design and build  \n",
      "accessible PDF tables  \n",
      "Sample tables\n",
      "\n",
      "Table 1\n",
      "\n",
      "| **Column header (TH)** | **Column header (TH)** | **Column header (TH)** |\n",
      "|------------------------|------------------------|------------------------|\n",
      "| **Row header (TH)**    | D\n"
     ]
    }
   ],
   "source": [
    "import base64\n",
    "pdf_base64 = base64.b64encode(open('sample-tables.pdf', 'rb').read()).decode('utf-8')\n",
    "markdown_text = scav.dig(pdf_base64)\n",
    "print(markdown_text[:250])\n"
   ]
  },
  {
   "cell_type": "markdown",
   "metadata": {},
   "source": [
    "---\n",
    "\n",
    "## Detailed token tracking\n",
    "\n",
    "After processing, you can access the `tokens_usage` attribute to get a detailed report of tokens consumed:\n",
    "\n",
    "- `input`: accumulated input tokens\n",
    "- `output`: accumulated output tokens\n",
    "- `total`: total tokens\n",
    "- `details`: detailed list per page (with fallback if applicable)\n"
   ]
  },
  {
   "cell_type": "code",
   "execution_count": 6,
   "metadata": {},
   "outputs": [
    {
     "name": "stdout",
     "output_type": "stream",
     "text": [
      "Input Tokens: 3333\n",
      "Output Tokens: 14875\n",
      "Total Tokens: 18208\n"
     ]
    }
   ],
   "source": [
    "for key, value in scav.tokens_usage.items():\n",
    "    if key != 'details':\n",
    "        print(f\"{key.capitalize()} Tokens: {value}\")"
   ]
  },
  {
   "cell_type": "markdown",
   "metadata": {},
   "source": [
    "## Best practices and notes\n",
    "\n",
    "- **Supported models:** only 'gpt-4.1' and 'gpt-4o'.\n",
    "- **Flexible input:** path, URL, bytes, or base64.\n",
    "- **Logs:** use `verbose=True` for detailed debugging or pass a custom logger.\n",
    "- **Errors:** use try/except to catch `ModelIncompatibilityError` and other input issues.\n",
    "- **Performance:** for large PDFs, adjust `max_workers` according to your infrastructure.\n",
    "\n",
    "---\n",
    "\n",
    "**Example of error handling:**\n"
   ]
  },
  {
   "cell_type": "code",
   "execution_count": 7,
   "metadata": {},
   "outputs": [
    {
     "name": "stdout",
     "output_type": "stream",
     "text": [
      "Error: Model 'gpt-3.5-turbo' is not compatible. Only 'gpt-4.1' and 'gpt-4o' are supported for PDF to Markdown conversion.\n"
     ]
    }
   ],
   "source": [
    "from scav_switch.converters.pdf.exceptions import ModelIncompatibilityError\n",
    "\n",
    "try:\n",
    "    scav = ScavToMarkdown(model='gpt-3.5-turbo')  # Not supported\n",
    "except ModelIncompatibilityError as e:\n",
    "    print(f'Error: {e}')\n"
   ]
  }
 ],
 "metadata": {
  "language_info": {
   "name": "python"
  }
 },
 "nbformat": 4,
 "nbformat_minor": 2
}
