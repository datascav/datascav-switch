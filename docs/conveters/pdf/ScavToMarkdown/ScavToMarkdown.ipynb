{
 "cells": [
  {
   "cell_type": "markdown",
   "metadata": {},
   "source": [
    "# ScavToMarkdown: Conversor de PDF para Markdown\n",
    "\n",
    "O `ScavToMarkdown` é uma solução robusta para transcrever arquivos PDF em texto Markdown, utilizando modelos OpenAI (apenas `gpt-4.1` e `gpt-4o`) via LangChain.\n",
    "\n",
    "- **Entrada:** caminho de arquivo, bytes, URL ou string base64 do PDF.\n",
    "- **Saída:** string em Markdown com a transcrição detalhada do PDF.\n",
    "- **Destaques:** processamento paralelo, logging dinâmico e configurável, integração com LangChain e OpenAI, e tracking detalhado de tokens.\n",
    "\n",
    "---"
   ]
  },
  {
   "cell_type": "markdown",
   "metadata": {},
   "source": [
    "## Parâmetros da Classe\n",
    "\n",
    "| Parâmetro      | Tipo    | Default    | Descrição                                                                 |\n",
    "|---------------|---------|------------|--------------------------------------------------------------------------|\n",
    "| model         | str     | 'gpt-4.1'  | Modelo OpenAI a ser utilizado ('gpt-4.1' ou 'gpt-4o')                    |\n",
    "| temperature   | float   | 0          | Temperatura para geração de texto                                         |\n",
    "| max_tokens    | int     | 2048       | Número máximo de tokens por resposta                                     |\n",
    "| timeout       | int     | 90         | Timeout (segundos) para requisições                                      |\n",
    "| max_workers   | int     | 10         | Número máximo de threads para processamento paralelo                      |\n",
    "| verbose       | bool    | True       | Ativa/desativa logs detalhados                                           |\n",
    "| log_level     | str     | 'INFO'     | Nível de log ('DEBUG', 'INFO', 'WARNING', 'ERROR')                       |\n",
    "| callbacks     | list    | None       | Callbacks do LangChain para tracing                                      |\n",
    "| logger        | Logger  | None       | Logger customizado (opcional, para integração dinâmica)                  |\n",
    "\n",
    "**Exceções:**\n",
    "- `ModelIncompatibilityError`: se o modelo não for 'gpt-4.1' ou 'gpt-4o'.\n",
    "- `RuntimeError`: problemas ao ler o PDF.\n",
    "\n",
    "---"
   ]
  },
  {
   "cell_type": "code",
   "execution_count": 1,
   "metadata": {},
   "outputs": [],
   "source": [
    "# Instalação das dependências (caso necessário)\n",
    "# !pip install langchain_openai langchain_core openai python-dotenv requests pymupdf tiktoken\n"
   ]
  },
  {
   "cell_type": "markdown",
   "metadata": {},
   "source": [
    "## Instanciando a classe\n",
    "\n",
    "Abaixo, instanciamos o conversor com o modelo padrão e logging ativado.\n",
    "Você pode passar um logger customizado para integração dinâmica com outros sistemas de logging.\n"
   ]
  },
  {
   "cell_type": "code",
   "execution_count": 2,
   "metadata": {},
   "outputs": [
    {
     "name": "stderr",
     "output_type": "stream",
     "text": [
      "2025-06-14 03:23:37,809 - ScavToMarkdown - INFO - ScavToMarkdown initialized - Project: None\n"
     ]
    }
   ],
   "source": [
    "from scav_switch.converters.pdf import ScavToMarkdown\n",
    "import logging\n",
    "\n",
    "scav = ScavToMarkdown(model='gpt-4.1', verbose=True)\n"
   ]
  },
  {
   "cell_type": "markdown",
   "metadata": {},
   "source": [
    "## Exemplo 1: Converter PDF a partir de um caminho de arquivo\n",
    "\n",
    "O método `dig` aceita o caminho para um arquivo PDF local.\n"
   ]
  },
  {
   "cell_type": "code",
   "execution_count": 3,
   "metadata": {},
   "outputs": [
    {
     "name": "stderr",
     "output_type": "stream",
     "text": [
      "2025-06-14 03:23:37,834 - ScavToMarkdown - INFO - Starting PDF to Markdown conversion process\n",
      "2025-06-14 03:23:37,836 - ScavToMarkdown - INFO - PDF loaded successfully - 145494 bytes\n",
      "2025-06-14 03:23:38,302 - ScavToMarkdown - INFO - Extracted 11 pages from PDF\n",
      "2025-06-14 03:23:38,303 - ScavToMarkdown - INFO - Starting parallel processing with 10 workers\n",
      "2025-06-14 03:23:57,133 - ScavToMarkdown - INFO - Conversion completed - 17058 characters generated\n"
     ]
    },
    {
     "name": "stdout",
     "output_type": "stream",
     "text": [
      "\n",
      "Design and build  \n",
      "accessible PDF tables  \n",
      "Sample tables\n",
      "\n",
      "Table 1\n",
      "\n",
      "| Column header (TH) | Column header (TH) | Column header (TH) |\n",
      "|--------------------|--------------------|--------------------|\n",
      "| **Row header (TH)** | Data cell (TD)     | Data ce\n"
     ]
    }
   ],
   "source": [
    "import os\n",
    "base_path = os.getcwd()\n",
    "pdf_path = os.path.join(base_path, 'sample-tables.pdf')\n",
    "markdown_text = scav.dig(pdf_path)\n",
    "\n",
    "with open('markdown_text.md', 'w') as f:\n",
    "    f.write(markdown_text)\n",
    "\n",
    "print(markdown_text[:250])\n"
   ]
  },
  {
   "cell_type": "markdown",
   "metadata": {},
   "source": [
    "## Exemplo 2: Converter PDF a partir de uma URL\n",
    "\n",
    "Também é possível informar uma URL direta para o PDF.\n"
   ]
  },
  {
   "cell_type": "code",
   "execution_count": 4,
   "metadata": {},
   "outputs": [
    {
     "name": "stderr",
     "output_type": "stream",
     "text": [
      "2025-06-14 03:23:57,139 - ScavToMarkdown - INFO - Starting PDF to Markdown conversion process\n",
      "2025-06-14 03:23:57,260 - ScavToMarkdown - INFO - PDF loaded successfully - 145494 bytes\n",
      "2025-06-14 03:23:57,728 - ScavToMarkdown - INFO - Extracted 11 pages from PDF\n",
      "2025-06-14 03:23:57,728 - ScavToMarkdown - INFO - Starting parallel processing with 10 workers\n",
      "2025-06-14 03:24:13,395 - ScavToMarkdown - INFO - Conversion completed - 16784 characters generated\n"
     ]
    },
    {
     "name": "stdout",
     "output_type": "stream",
     "text": [
      "\n",
      "Design and build  \n",
      "accessible PDF tables  \n",
      "Sample tables\n",
      "\n",
      "Table 1\n",
      "\n",
      "| Column header (TH) | Column header (TH) | Column header (TH) |\n",
      "|--------------------|--------------------|--------------------|\n",
      "| **Row header (TH)** | Data cell (TD)      | Data c\n"
     ]
    }
   ],
   "source": [
    "pdf_url = 'https://datascav-public-media-bkt.s3.sa-east-1.amazonaws.com/pdf/sample-tables.pdf'\n",
    "markdown_text = scav.dig(pdf_url)\n",
    "print(markdown_text[:250])\n"
   ]
  },
  {
   "cell_type": "markdown",
   "metadata": {},
   "source": [
    "## Exemplo 3: Converter PDF a partir de uma string base64\n",
    "\n",
    "Se você possui o PDF em base64, basta passar a string diretamente.\n"
   ]
  },
  {
   "cell_type": "code",
   "execution_count": 5,
   "metadata": {},
   "outputs": [
    {
     "name": "stderr",
     "output_type": "stream",
     "text": [
      "2025-06-14 03:24:13,402 - ScavToMarkdown - INFO - Starting PDF to Markdown conversion process\n",
      "2025-06-14 03:24:13,403 - ScavToMarkdown - INFO - PDF loaded successfully - 145494 bytes\n",
      "2025-06-14 03:24:13,854 - ScavToMarkdown - INFO - Extracted 11 pages from PDF\n",
      "2025-06-14 03:24:13,855 - ScavToMarkdown - INFO - Starting parallel processing with 10 workers\n",
      "2025-06-14 03:24:28,520 - ScavToMarkdown - INFO - Conversion completed - 16911 characters generated\n"
     ]
    },
    {
     "name": "stdout",
     "output_type": "stream",
     "text": [
      "\n",
      "Design and build  \n",
      "accessible PDF tables  \n",
      "Sample tables\n",
      "\n",
      "Table 1\n",
      "\n",
      "| **Column header (TH)** | **Column header (TH)** | **Column header (TH)** |\n",
      "|------------------------|------------------------|------------------------|\n",
      "| **Row header (TH)**    | D\n"
     ]
    }
   ],
   "source": [
    "import base64\n",
    "pdf_base64 = base64.b64encode(open('sample-tables.pdf', 'rb').read()).decode('utf-8')\n",
    "markdown_text = scav.dig(pdf_base64)\n",
    "print(markdown_text[:250])\n"
   ]
  },
  {
   "cell_type": "markdown",
   "metadata": {},
   "source": [
    "---\n",
    "\n",
    "## Tracking detalhado de tokens\n",
    "\n",
    "Após o processamento, você pode acessar o atributo `tokens_usage` para obter um relatório detalhado de tokens consumidos:\n",
    "\n",
    "\n",
    "- `input`: tokens de entrada acumulados\n",
    "- `output`: tokens de saída acumulados\n",
    "- `total`: tokens totais\n",
    "- `details`: lista detalhada por página (com fallback se aplicável)\n"
   ]
  },
  {
   "cell_type": "code",
   "execution_count": 6,
   "metadata": {},
   "outputs": [
    {
     "name": "stdout",
     "output_type": "stream",
     "text": [
      "Input Tokens: 3333\n",
      "Output Tokens: 14875\n",
      "Total Tokens: 18208\n"
     ]
    }
   ],
   "source": [
    "for key, value in scav.tokens_usage.items():\n",
    "    if key != 'details':\n",
    "        print(f\"{key.capitalize()} Tokens: {value}\")"
   ]
  },
  {
   "cell_type": "markdown",
   "metadata": {},
   "source": [
    "## Boas práticas e observações\n",
    "\n",
    "- **Modelos suportados:** apenas 'gpt-4.1' e 'gpt-4o'.\n",
    "- **Entrada flexível:** caminho, URL, bytes ou base64.\n",
    "- **Logs:** use `verbose=True` para depuração detalhada ou passe um logger customizado.\n",
    "- **Erros:** utilize try/except para capturar `ModelIncompatibilityError` e outros problemas de entrada.\n",
    "- **Performance:** para grandes PDFs, ajuste `max_workers` conforme sua infraestrutura.\n",
    "\n",
    "---\n",
    "\n",
    "**Exemplo de tratamento de erro:**\n"
   ]
  },
  {
   "cell_type": "code",
   "execution_count": 7,
   "metadata": {},
   "outputs": [
    {
     "name": "stdout",
     "output_type": "stream",
     "text": [
      "Erro: Model 'gpt-3.5-turbo' is not compatible. Only 'gpt-4.1' and 'gpt-4o' are supported for PDF to Markdown conversion.\n"
     ]
    }
   ],
   "source": [
    "from scav_switch.converters.pdf.exceptions import ModelIncompatibilityError\n",
    "\n",
    "try:\n",
    "    scav = ScavToMarkdown(model='gpt-3.5-turbo')  # Não suportado\n",
    "except ModelIncompatibilityError as e:\n",
    "    print(f'Erro: {e}')\n"
   ]
  }
 ],
 "metadata": {
  "language_info": {
   "name": "python"
  }
 },
 "nbformat": 4,
 "nbformat_minor": 2
}
